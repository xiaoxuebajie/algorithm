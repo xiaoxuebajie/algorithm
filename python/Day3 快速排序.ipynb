{
 "cells": [
  {
   "cell_type": "markdown",
   "metadata": {},
   "source": [
    "# Day3 快速排序\n",
    "- 笔记作者：CV七少\n",
    "- 学习时间：2020.5.05\n",
    "- 学习任务：Python相关算法\n",
    "- 视频地址：https://www.bilibili.com/video/BV1Y7411F7hx?p=3"
   ]
  },
  {
   "cell_type": "markdown",
   "metadata": {},
   "source": [
    "### 小例题\n",
    "打卡签到li=[1,2,1,3,2,1,1,2,2,3,3],其中数字代表签到同学的代号，数字出现的次数代表同学签到的次数，签到为偶数次为正常现象，其中仅有一位同学签到不正常，请找出来"
   ]
  },
  {
   "cell_type": "code",
   "execution_count": 1,
   "metadata": {},
   "outputs": [
    {
     "name": "stdout",
     "output_type": "stream",
     "text": [
      "3\n"
     ]
    }
   ],
   "source": [
    "li = [1,2,1,3,2,1,1,2,2,3,3]\n",
    "\n",
    "a = 0\n",
    "for v in li:\n",
    "    a = a ^ v\n",
    "print(a)"
   ]
  },
  {
   "cell_type": "markdown",
   "metadata": {},
   "source": [
    "## 快速排序\n",
    "- 时间复杂度$O(nlogn)$"
   ]
  },
  {
   "cell_type": "markdown",
   "metadata": {},
   "source": [
    "#### 方法一：不占内存"
   ]
  },
  {
   "cell_type": "code",
   "execution_count": 2,
   "metadata": {
    "scrolled": true
   },
   "outputs": [
    {
     "name": "stdout",
     "output_type": "stream",
     "text": [
      "[6, 2, 0, 3, 4, 1, 5]\n"
     ]
    },
    {
     "data": {
      "text/plain": [
       "[0, 1, 2, 3, 4, 5, 6]"
      ]
     },
     "execution_count": 2,
     "metadata": {},
     "output_type": "execute_result"
    }
   ],
   "source": [
    "def quick_sort(li, left, right):\n",
    "    if left < right:      # 待排序的区域至少有两个元素\n",
    "        mid = partition(li, left, right)\n",
    "        quick_sort(li, left, mid-1)\n",
    "        quick_sort(li, mid+1, right)\n",
    "        \n",
    "def partition(li, left, right):\n",
    "    tmp = li[left]\n",
    "    while left < right:\n",
    "        while left < right and li[right] >= tmp:\n",
    "            right -= 1\n",
    "        li[left] = li[right]\n",
    "        while left < right and li[left] <= tmp:\n",
    "            left += 1\n",
    "        li[right] = li[left]\n",
    "    li[left] = tmp\n",
    "    return left\n",
    "\n",
    "import random\n",
    "li = list(range(7))\n",
    "random.shuffle(li)\n",
    "print(li)\n",
    "quick_sort(li, 0, len(li)-1)\n",
    "li"
   ]
  },
  {
   "cell_type": "markdown",
   "metadata": {},
   "source": [
    "#### 方法二"
   ]
  },
  {
   "cell_type": "code",
   "execution_count": 3,
   "metadata": {},
   "outputs": [
    {
     "data": {
      "text/plain": [
       "[0, 1, 2, 3, 4, 5, 6]"
      ]
     },
     "execution_count": 3,
     "metadata": {},
     "output_type": "execute_result"
    }
   ],
   "source": [
    "def quick_sort2(li):\n",
    "    if len(li) < 2:\n",
    "        return li\n",
    "    tmp = li[0]\n",
    "    left = [v for v in li[1:] if v <= tmp]\n",
    "    right = [v for v in li[1:] if v >= tmp]\n",
    "    left = quick_sort2(left)\n",
    "    right = quick_sort2(right)\n",
    "    return left + [tmp] + right\n",
    "\n",
    "import random\n",
    "li = list(range(7))\n",
    "random.shuffle(li)\n",
    "quick_sort2(li)"
   ]
  },
  {
   "cell_type": "markdown",
   "metadata": {},
   "source": [
    "### 快速排序最坏情况\n",
    "- 逆序，时间复杂度$O(n^2)$"
   ]
  }
 ],
 "metadata": {
  "kernelspec": {
   "display_name": "Python 3",
   "language": "python",
   "name": "python3"
  },
  "language_info": {
   "codemirror_mode": {
    "name": "ipython",
    "version": 3
   },
   "file_extension": ".py",
   "mimetype": "text/x-python",
   "name": "python",
   "nbconvert_exporter": "python",
   "pygments_lexer": "ipython3",
   "version": "3.6.9"
  }
 },
 "nbformat": 4,
 "nbformat_minor": 2
}

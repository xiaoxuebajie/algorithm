{
 "cells": [
  {
   "cell_type": "markdown",
   "metadata": {},
   "source": [
    "# Day2 查找排序\n",
    "\n",
    "- 笔记作者：CV七少\n",
    "- 学习时间：2020.4.30\n",
    "- 学习任务：Python相关算法\n",
    "- 视频地址：https://www.bilibili.com/video/BV1Y7411F7hx?p=2"
   ]
  },
  {
   "cell_type": "markdown",
   "metadata": {},
   "source": [
    "## 列表查找\n",
    "- 输入：列表、待查找元素\n",
    "- 输出：元素下标或未查找到元素\n",
    "- 顺序查找、二分查找(有序列表)"
   ]
  },
  {
   "cell_type": "code",
   "execution_count": 1,
   "metadata": {},
   "outputs": [
    {
     "name": "stdout",
     "output_type": "stream",
     "text": [
      "True\n",
      "5\n"
     ]
    }
   ],
   "source": [
    "li = [1, 2, 5, 67, 2, 6, 7]\n",
    "print(6 in li)    \n",
    "print(li.index(6))"
   ]
  },
  {
   "cell_type": "markdown",
   "metadata": {},
   "source": [
    "## 二分查找\n",
    "从有序列表的候选区开始，通过对待查找的值与候选区中间值的比较，可以使候选区减少一半。"
   ]
  },
  {
   "cell_type": "code",
   "execution_count": 2,
   "metadata": {},
   "outputs": [
    {
     "data": {
      "text/plain": [
       "100"
      ]
     },
     "execution_count": 2,
     "metadata": {},
     "output_type": "execute_result"
    }
   ],
   "source": [
    "li = list(range(0, 2000, 2))\n",
    "\n",
    "def bin_search(li, val):\n",
    "    low = 0\n",
    "    high = len(li) - 1\n",
    "    while low <= high:\n",
    "        mid = (low + high) // 2\n",
    "        if li[mid] == val:\n",
    "            return mid\n",
    "        elif li[mid] < val:\n",
    "            low = mid + 1\n",
    "        else:\n",
    "            high = mid -1\n",
    "    return -1\n",
    "\n",
    "bin_search(li, 200)"
   ]
  },
  {
   "cell_type": "markdown",
   "metadata": {},
   "source": [
    "## 递归方法"
   ]
  },
  {
   "cell_type": "code",
   "execution_count": 3,
   "metadata": {},
   "outputs": [],
   "source": [
    "def bin_search_rec(data_set, value, low, high):\n",
    "    if low <= high:\n",
    "        mid = (low + high) // 2\n",
    "        if data_set[mid] == value:\n",
    "            return mid\n",
    "        elif data_set[mid] > value:\n",
    "            return bin_search_rec(data_set, value, low, mid-1)\n",
    "        else:\n",
    "            return bin_search_rec(data_set, value, mid+1, high)\n",
    "    else:\n",
    "        return -1"
   ]
  },
  {
   "cell_type": "markdown",
   "metadata": {},
   "source": [
    "### 排序算法：\n",
    "- 冒泡排序\n",
    "- 选择排序\n",
    "- 插入排序\n",
    "- 快速排序\n",
    "- 堆排序\n",
    "- 归并排序\n",
    "- 基数排序\n",
    "- 希尔排序\n",
    "- 桶排序"
   ]
  },
  {
   "cell_type": "markdown",
   "metadata": {},
   "source": [
    "### 冒泡排序（稳定）\n",
    "首先，列表每两个相邻的数，如果前边的比后边的大，那么交换这两个数。\n",
    "- 最好情况：$O(n)$\n",
    "- 平均情况：$O(n^2)$\n",
    "- 最坏情况：$O(n^2)$"
   ]
  },
  {
   "cell_type": "code",
   "execution_count": 4,
   "metadata": {},
   "outputs": [
    {
     "data": {
      "text/plain": [
       "[0, 1, 2, 3, 4, 5, 6]"
      ]
     },
     "execution_count": 4,
     "metadata": {},
     "output_type": "execute_result"
    }
   ],
   "source": [
    "import random\n",
    "\n",
    "li = list(range(7))\n",
    "random.shuffle(li)\n",
    "\n",
    "def bubble_sort(li):\n",
    "    n = len(li)\n",
    "    for i in range(n-1):              # i 表示第n趟 一共n或者n-1趟\n",
    "        exchange = False              # 对于有序的列表只进行一趟，直接跳出\n",
    "        for j in range(n-i-1):        # j 表示箭头 0~n-i-2  无序区范围[0，n-i-1]\n",
    "            if li[j] >li[j+1]:\n",
    "                li[j],li[j+1] = li[j+1], li[j]\n",
    "                exchange = True\n",
    "        if not exchange:\n",
    "            break\n",
    "    return li\n",
    "\n",
    "bubble_sort(li)"
   ]
  },
  {
   "cell_type": "markdown",
   "metadata": {},
   "source": [
    "### 选择排序（不稳定）\n",
    "1. 一趟遍历记录最小的数，放到第一个位置；\n",
    "2. 再一趟遍历记录剩余列表中的最小的数，继续放置；"
   ]
  },
  {
   "cell_type": "code",
   "execution_count": 5,
   "metadata": {},
   "outputs": [
    {
     "data": {
      "text/plain": [
       "[0, 1, 2, 3, 4, 5, 6]"
      ]
     },
     "execution_count": 5,
     "metadata": {},
     "output_type": "execute_result"
    }
   ],
   "source": [
    "import random\n",
    "\n",
    "li = list(range(7))\n",
    "random.shuffle(li)\n",
    "\n",
    "def min_pos(li):\n",
    "    min_pos = 0\n",
    "    for i in range(1, len(li)):\n",
    "        if li[i] < li[min_pos]:\n",
    "            min_pos = i\n",
    "    return min_pos\n",
    "\n",
    "def select_sort(li):\n",
    "    for i in range(len(li)-1):\n",
    "        min_pos = i\n",
    "        for j in range(i+1, len(li)):\n",
    "            if li[j] < li[min_pos]:\n",
    "                min_pos = j\n",
    "        li[i], li[min_pos] = li[min_pos], li[i]\n",
    "    return li\n",
    "\n",
    "select_sort(li)"
   ]
  },
  {
   "cell_type": "markdown",
   "metadata": {},
   "source": [
    "### 插入排序\n",
    "1. 列表被分为有序区和无序区两个部分。最初有序区只有一个元素\n",
    "2. 每次从无序区选择一个元素，插入到有序区的位置，直到无序区变空\n",
    "\n",
    "时间复杂度$O(n^2)$"
   ]
  },
  {
   "cell_type": "code",
   "execution_count": 6,
   "metadata": {},
   "outputs": [
    {
     "data": {
      "text/plain": [
       "[0, 1, 2, 3, 4, 5, 6]"
      ]
     },
     "execution_count": 6,
     "metadata": {},
     "output_type": "execute_result"
    }
   ],
   "source": [
    "import random\n",
    "\n",
    "li = list(range(7))\n",
    "random.shuffle(li)\n",
    "\n",
    "def insert_sort(li):\n",
    "    for i in range(1, len(li)):  # i表示摸到牌的下标\n",
    "        tmp = li[i]\n",
    "        j = i-1\n",
    "        while j >= 0 and li[j] > tmp:\n",
    "            li[j+1] = li[j]\n",
    "            j -= 1\n",
    "        li[j+1] = tmp\n",
    "    return li\n",
    "\n",
    "select_sort(li)"
   ]
  }
 ],
 "metadata": {
  "kernelspec": {
   "display_name": "Python 3",
   "language": "python",
   "name": "python3"
  },
  "language_info": {
   "codemirror_mode": {
    "name": "ipython",
    "version": 3
   },
   "file_extension": ".py",
   "mimetype": "text/x-python",
   "name": "python",
   "nbconvert_exporter": "python",
   "pygments_lexer": "ipython3",
   "version": "3.6.9"
  }
 },
 "nbformat": 4,
 "nbformat_minor": 2
}

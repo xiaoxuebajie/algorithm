{
 "cells": [
  {
   "cell_type": "markdown",
   "metadata": {},
   "source": [
    "# Day14 算法习题\n",
    "- 笔记作者：CV七少\n",
    "- 学习时间：2020.5.27\n",
    "- 学习任务：Python相关算法\n",
    "- 视频地址：https://www.bilibili.com/video/BV1Y7411F7hx?p=13"
   ]
  },
  {
   "cell_type": "markdown",
   "metadata": {},
   "source": [
    "### 算法习题1：重排列\n",
    "- 题目：给定两个字符串s和t，判断t是否为s的重新排列后组成的单词：\n",
    "- 例如 s='anagram', t='nagaram', return true; s='rat', t='car', return false."
   ]
  },
  {
   "cell_type": "code",
   "execution_count": null,
   "metadata": {},
   "outputs": [],
   "source": []
  },
  {
   "cell_type": "markdown",
   "metadata": {},
   "source": [
    "### 算法习题2：二维二分查找\n",
    "- 题目：给定一个m*n的二维列表，查找一个数是否存在。列表有下列特性：\n",
    "    - 每一行的列表从左到右已经排序好\n",
    "    - 每一行第一个数比上一行最后一个数大。"
   ]
  },
  {
   "cell_type": "code",
   "execution_count": null,
   "metadata": {},
   "outputs": [],
   "source": []
  },
  {
   "cell_type": "markdown",
   "metadata": {},
   "source": [
    "### 算法习题3：Two Sum\n",
    "- 题目：给定一个列表和一个整数，设计算法找到两个数的下标，使得两个数之和为给定的整数。保证肯定仅有一个结果。\n",
    "- 例如：列表[1,2,5,4]与目标整数3，1+2=3，结果为（0，1）"
   ]
  },
  {
   "cell_type": "code",
   "execution_count": 1,
   "metadata": {},
   "outputs": [],
   "source": [
    "# O(n^2)\n",
    "def two_sum_1(li, num):\n",
    "    for i in range(len(li)):\n",
    "        for j in range(i+1, len(li)):\n",
    "            if li[i] + li[j] == num:\n",
    "                return i,j\n",
    "\n",
    "# 要求有序O(nlogn)\n",
    "def bin_search(li, val, low, high):\n",
    "    while low <= high:\n",
    "        mid = (low + high) // 2\n",
    "        if li[mid] == val:\n",
    "            return mid\n",
    "        elif li[mid] < val:\n",
    "            low = mid + 1\n",
    "        else:\n",
    "            high = mid -1\n",
    "    return -1\n",
    "\n",
    "def two_sum_2(li, num):\n",
    "    for i in rang(len(li)):\n",
    "        a = li[i]\n",
    "        b = num - a\n",
    "        j = bin_search(li, b, i+1, len(li)-1)\n",
    "        if j >= 0:\n",
    "            return i, j\n",
    "\n",
    "# 要求有序O(n)\n",
    "def two_sum_3(li,num):\n",
    "    i = 0\n",
    "    j = len(li)-1\n",
    "    while i<j:\n",
    "        s = li[i] + li[j]\n",
    "        if s == num:\n",
    "            return i, j\n",
    "        elif s < num:\n",
    "            i += 1\n",
    "        elif s > num:\n",
    "            j -= 1\n",
    "    return -1, -1\n",
    "\n",
    "# 不要求有序 O(n)\n",
    "def two_sum_4(li, num):\n",
    "    dic = {}\n",
    "    for i in range(len(li)):\n",
    "        a = li[i]\n",
    "        b = num - li[i]\n",
    "        if b not in dic:\n",
    "            dic[a] = i\n",
    "        else:\n",
    "            return dic[b], i\n",
    "        \n",
    "# 无序列表：4 哈希表\n",
    "# 有序列表： 3 两边找"
   ]
  },
  {
   "cell_type": "markdown",
   "metadata": {},
   "source": [
    "### 3-sum\n",
    "- 1.暴力枚举 O(n^3)\n",
    "- 2.二分查找 O(n^2logn)\n",
    "- 3.两边找： O(n^2)  最优\n",
    "- 4.哈希表： O(n^2)"
   ]
  },
  {
   "cell_type": "markdown",
   "metadata": {},
   "source": [
    "### 减法问题\n",
    "- 哈希表最优，需要注意的是找两个值"
   ]
  }
 ],
 "metadata": {
  "kernelspec": {
   "display_name": "Python 3",
   "language": "python",
   "name": "python3"
  },
  "language_info": {
   "codemirror_mode": {
    "name": "ipython",
    "version": 3
   },
   "file_extension": ".py",
   "mimetype": "text/x-python",
   "name": "python",
   "nbconvert_exporter": "python",
   "pygments_lexer": "ipython3",
   "version": "3.6.9"
  }
 },
 "nbformat": 4,
 "nbformat_minor": 2
}

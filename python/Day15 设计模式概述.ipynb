{
 "cells": [
  {
   "cell_type": "markdown",
   "metadata": {},
   "source": [
    "# Day15 设计模式概述\n",
    "- 笔记作者：CV七少\n",
    "- 学习时间：2020.5.28\n",
    "- 学习任务：Python相关算法\n",
    "- 视频地址：https://www.bilibili.com/video/BV1Y7411F7hx?p=14"
   ]
  },
  {
   "cell_type": "markdown",
   "metadata": {},
   "source": [
    "### 什么是设计模式\n",
    "- Christopher Alexander：“每一个模式描述了一个在我们周围不断重复发生的问题，以及该问题的解决方案的核心。这样你就能一次又一次地使用该方案而不必做重复劳动。”\n",
    "- 每一个设计模式系统的命名、解释和评价了面向对象系统中一个重要的和重复出现的设计。\n",
    "- GoF（Gang of Four）\n",
    "- 设计模式四个基本要素：模式名称、问题、解决方案、效果"
   ]
  },
  {
   "cell_type": "markdown",
   "metadata": {},
   "source": [
    "### 讲在设计模式之前\n",
    "- 对象 / 类\n",
    "    - 封装\n",
    "    - 继承\n",
    "    - 多态\n",
    "- 接口：一种特殊的类，声明了若干方法，要求继承该接口的类必须实现这些方法。\n",
    "    - 作用：限制继承接口的类的方法的名称及调用方式；隐藏了类的内部实现。\n",
    "    - 接口就是一种抽象的基类（父类）。限制继承它的类必须实现接口中定义的某些方法。"
   ]
  },
  {
   "cell_type": "markdown",
   "metadata": {},
   "source": [
    "### Python中接口的两种写法\n",
    "~~~python\n",
    "class Interface:\n",
    "    def method(self,arg):\n",
    "        raise NotImplementedError\n",
    "~~~\n",
    "~~~python\n",
    "from abc import abstractmethod, ABCMeta\n",
    "\n",
    "class Interface(metaclass=ABCMeta):\n",
    "    @abstractmethod\n",
    "    def method(sel, arg):\n",
    "        pass\n",
    "~~~"
   ]
  },
  {
   "cell_type": "code",
   "execution_count": 1,
   "metadata": {},
   "outputs": [],
   "source": [
    "from abc import ABCMeta, abstractmethod\n",
    "# 抽象类：不能实例化的类\n",
    "class Interface(metaclass=ABCMeta):\n",
    "    @abstractmethod\n",
    "    def func(self, arg):\n",
    "        pass\n",
    "    @abstractmethod\n",
    "    def func2(self, arg):\n",
    "        pass\n",
    "\n",
    "\n",
    "# 如果A类不实现方法的话，它也是一个抽象类，不可实例化，只有实现方法之后才可以实例化\n",
    "# 继承接口的类必须实现接口中所有抽象方法。\n",
    "class A(Interface):\n",
    "    def func(self, arg):\n",
    "        print(arg)\n",
    "    def func2(self, arg):\n",
    "        print(arg)\n",
    "\n",
    "a = A()\n",
    "\n",
    "# u = User() 就会报错，因为User是一个抽象类，不能实例化，避免错误。     \n",
    "class User(metaclass=ABCMeta):\n",
    "    pass\n",
    "\n",
    "class student(User):\n",
    "    pass\n",
    "\n",
    "class teacher(User):\n",
    "    pass"
   ]
  },
  {
   "cell_type": "code",
   "execution_count": 2,
   "metadata": {},
   "outputs": [
    {
     "name": "stdout",
     "output_type": "stream",
     "text": [
      "支付宝支付100元\n"
     ]
    }
   ],
   "source": [
    "from abc import abstractmethod, ABCMeta\n",
    "\n",
    "class Payment(metaclass=ABCMeta):\n",
    "    @abstractmethod\n",
    "    def pay(self, money):\n",
    "        raise NotImplementedError\n",
    "\n",
    "# 实现接口\n",
    "class Alipay(Payment):\n",
    "    def pay(self, money):\n",
    "        print('支付宝支付%s元' % money)\n",
    "# python限制并不严格，参数个数不同也行        \n",
    "class ApplePay(Payment):\n",
    "    def pay(self, money,arg):\n",
    "        print('苹果支付%s元' % money)\n",
    "        \n",
    "class WeChatPay(Payment):\n",
    "    def pay(self, money):\n",
    "        print('微信支付%s元' % money)\n",
    "        \n",
    "p = Alipay()\n",
    "p.pay(100)"
   ]
  },
  {
   "cell_type": "markdown",
   "metadata": {},
   "source": [
    "### 设计模式六大原则\n",
    "- **开闭原则：**一个软件实体如类、模块和函数应该对扩展开放，对修改关闭。即软件实体应尽量在不修改原有代码的情况下进行扩展。\n",
    "- **里氏(Liskov)替换原则：**所有引用基类（父类）的地方必须能透明地使用其子类的对象。\n",
    "- **依赖倒置原则：**高层模块不应该依赖低层模块，二者都应该依赖其抽象；抽象不应该依赖细节；细节应该依赖抽象。换言之，要针对接口编程，而不是针对实现编程。\n",
    "- **接口隔离原则：**使用多个专门的接口，而不使用单一的总接口，即客户端不应该依赖那些它不需要的接口。\n",
    "- **迪米特法则：**一个软件实体应当尽可能少地与其他实体发生相互作用。\n",
    "- **单一职责原则：**不要存在多于一个导致类变更的原因。通俗的说，即一个类只负责一项职责。"
   ]
  },
  {
   "cell_type": "markdown",
   "metadata": {},
   "source": [
    "### 设计模式分类\n",
    "- 创建型模式\n",
    "    - 工厂方法模式\n",
    "    - 抽象工厂模式\n",
    "    - 创建者模式\n",
    "    - 原型模式\n",
    "    - 单例模式\n",
    "- 结构型模式\n",
    "    - 适配器模式\n",
    "    - 桥模式\n",
    "    - 组合模式\n",
    "    - 装饰模式\n",
    "    - 外观模式\n",
    "    - 享元模式\n",
    "    - 代理模式\n",
    "- 行为型模式\n",
    "    - 解释器模式\n",
    "    - 责任链模式\n",
    "    - 命令模式\n",
    "    - 迭代器模式\n",
    "    - 中介者模式\n",
    "    - 备忘录模式\n",
    "    - 观察者模式\n",
    "    - 状态模式\n",
    "    - 策略模式\n",
    "    - 访问者模式\n",
    "    - 模板方法模式"
   ]
  }
 ],
 "metadata": {
  "kernelspec": {
   "display_name": "Python 3",
   "language": "python",
   "name": "python3"
  },
  "language_info": {
   "codemirror_mode": {
    "name": "ipython",
    "version": 3
   },
   "file_extension": ".py",
   "mimetype": "text/x-python",
   "name": "python",
   "nbconvert_exporter": "python",
   "pygments_lexer": "ipython3",
   "version": "3.6.9"
  }
 },
 "nbformat": 4,
 "nbformat_minor": 2
}

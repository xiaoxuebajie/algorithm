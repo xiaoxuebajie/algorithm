{
 "cells": [
  {
   "cell_type": "markdown",
   "metadata": {},
   "source": [
    "# Day9 迷宫问题\n",
    "- 笔记作者：CV七少\n",
    "- 学习时间：2020.5.10\n",
    "- 学习任务：Python相关算法\n",
    "- 视频地址：https://www.bilibili.com/video/BV1Y7411F7hx?p=9"
   ]
  },
  {
   "cell_type": "markdown",
   "metadata": {},
   "source": [
    "### 栈的应用（深度搜索）：迷宫问题\n",
    "给一个二维列表，表示迷宫（0表示通道，1表示围墙）。给出算法，求一条走出迷宫的路径。\n",
    "<img src='./images/3.png' style=\"zoom:100%\">"
   ]
  },
  {
   "cell_type": "code",
   "execution_count": 2,
   "metadata": {},
   "outputs": [
    {
     "name": "stdout",
     "output_type": "stream",
     "text": [
      "[(1, 1), (1, 2), (2, 2), (3, 2), (3, 1), (4, 1), (5, 1), (5, 2), (5, 3), (6, 3), (6, 4), (6, 5), (5, 5), (4, 5), (4, 6), (4, 7), (3, 7), (3, 8), (4, 8), (5, 8), (6, 8), (7, 8), (8, 8)]\n"
     ]
    },
    {
     "data": {
      "text/plain": [
       "True"
      ]
     },
     "execution_count": 2,
     "metadata": {},
     "output_type": "execute_result"
    }
   ],
   "source": [
    "maze = [\n",
    "    [1,1,1,1,1,1,1,1,1,1],\n",
    "    [1,0,0,1,0,0,0,1,0,1],\n",
    "    [1,0,0,1,0,0,0,1,0,1],\n",
    "    [1,0,0,0,0,1,1,0,0,1],\n",
    "    [1,0,1,1,1,0,0,0,0,1],\n",
    "    [1,0,0,0,1,0,0,0,0,1],\n",
    "    [1,0,1,0,0,0,1,0,0,1],\n",
    "    [1,0,1,1,1,0,1,1,0,1],\n",
    "    [1,1,0,0,0,0,0,0,0,1],\n",
    "    [1,1,1,1,1,1,1,1,1,1]\n",
    "]\n",
    "\n",
    "dirs = [\n",
    "    lambda x, y: (x-1, y), # 上\n",
    "    lambda x, y: (x, y+1), # 右\n",
    "    lambda x, y: (x+1, y), # 下\n",
    "    lambda x, y: (x, y-1), # 左 \n",
    "]\n",
    "\n",
    "def solve_maze(x1, y1, x2, y2):\n",
    "    stack = []\n",
    "    stack.append((x1, y1))\n",
    "    maze[x1][y1] = 2\n",
    "    while len(stack) > 0:   # 当栈不空时循环\n",
    "        cur_node = stack[-1]\n",
    "        if cur_node == (x2, y2): # 如果到终点了\n",
    "            print(stack)\n",
    "            return True\n",
    "        for d in dirs:\n",
    "            next_node = d(*cur_node)\n",
    "            if maze[next_node[0]][next_node[1]] == 0:\n",
    "                stack.append(next_node)\n",
    "                maze[next_node[0]][next_node[1]] = 2 # 2表示已经走过的点\n",
    "                break\n",
    "        else:\n",
    "            stack.pop()\n",
    "    else:\n",
    "        print('无路')\n",
    "        return False\n",
    "\n",
    "solve_maze(1,1,8,8)"
   ]
  },
  {
   "cell_type": "markdown",
   "metadata": {},
   "source": [
    "### 队列的应用（广度搜索）：迷宫问题\n",
    "- 思路：从一个节点开始，寻找所有下面能继续走的点。继续寻找，直到找到出口\n",
    "- 方法：创建一个空队列，将起点位置进队。在队列不为空时循环：出队一次。如果当前位置为出口，则结束算法；否则找出当前方块的4个相邻方块中可走的方块，全部进队。"
   ]
  },
  {
   "cell_type": "code",
   "execution_count": 2,
   "metadata": {},
   "outputs": [
    {
     "name": "stdout",
     "output_type": "stream",
     "text": [
      "[(1, 1), (2, 1), (3, 1), (4, 1), (5, 1), (5, 2), (5, 3), (6, 3), (6, 4), (6, 5), (7, 5), (8, 5), (8, 6), (8, 7), (8, 8)]\n"
     ]
    },
    {
     "data": {
      "text/plain": [
       "True"
      ]
     },
     "execution_count": 2,
     "metadata": {},
     "output_type": "execute_result"
    }
   ],
   "source": [
    "from collections import deque\n",
    "\n",
    "maze = [\n",
    "    [1,1,1,1,1,1,1,1,1,1],\n",
    "    [1,0,0,1,0,0,0,1,0,1],\n",
    "    [1,0,0,1,0,0,0,1,0,1],\n",
    "    [1,0,0,0,0,1,1,0,0,1],\n",
    "    [1,0,1,1,1,0,0,0,0,1],\n",
    "    [1,0,0,0,1,0,0,0,0,1],\n",
    "    [1,0,1,0,0,0,1,0,0,1],\n",
    "    [1,0,1,1,1,0,1,1,0,1],\n",
    "    [1,1,0,0,0,0,0,0,0,1],\n",
    "    [1,1,1,1,1,1,1,1,1,1]\n",
    "]\n",
    "\n",
    "dirs = [\n",
    "    lambda x, y: (x-1, y), # 上\n",
    "    lambda x, y: (x, y+1), # 右\n",
    "    lambda x, y: (x+1, y), # 下\n",
    "    lambda x, y: (x, y-1), # 左 \n",
    "]\n",
    "\n",
    "def solve_maze_queue(x1, y1, x2, y2):\n",
    "    q = deque()\n",
    "    q.append((x1, y1, -1))\n",
    "    maze[x1][y1] = 2\n",
    "    traceback = []\n",
    "    while len(q) > 0: # 队不空时循环\n",
    "        cur_node = q.popleft()\n",
    "        traceback.append(cur_node)\n",
    "        if cur_node[:-1] == (x2, y2):\n",
    "            path = []\n",
    "            i = len(traceback)-1\n",
    "            while i >= 0:\n",
    "                path.append(traceback[i][0:2])\n",
    "                i = traceback[i][2]\n",
    "            path.reverse()\n",
    "            print(path)\n",
    "            return True\n",
    "            \n",
    "#             for i, v in enumerate(traceback):\n",
    "#                 print(i, v)\n",
    "        for d in dirs:\n",
    "            next_x, next_y = d(cur_node[0], cur_node[1])\n",
    "            if maze[next_x][next_y] == 0:\n",
    "                q.append((next_x, next_y, len(traceback)-1))\n",
    "                maze[next_x][next_y] = 2 # 2表示已经走过的点                \n",
    "    else:\n",
    "        print('无路')\n",
    "        return False\n",
    "\n",
    "solve_maze_queue(1,1,8,8) "
   ]
  },
  {
   "cell_type": "markdown",
   "metadata": {},
   "source": [
    "### 广度优先可以寻找最短路径"
   ]
  }
 ],
 "metadata": {
  "kernelspec": {
   "display_name": "Python 3",
   "language": "python",
   "name": "python3"
  },
  "language_info": {
   "codemirror_mode": {
    "name": "ipython",
    "version": 3
   },
   "file_extension": ".py",
   "mimetype": "text/x-python",
   "name": "python",
   "nbconvert_exporter": "python",
   "pygments_lexer": "ipython3",
   "version": "3.6.9"
  }
 },
 "nbformat": 4,
 "nbformat_minor": 2
}

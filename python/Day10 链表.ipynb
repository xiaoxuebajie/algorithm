{
 "cells": [
  {
   "cell_type": "markdown",
   "metadata": {},
   "source": [
    "# Day10 链表\n",
    "- 笔记作者：CV七少\n",
    "- 学习时间：2020.5.21\n",
    "- 学习任务：Python相关算法\n",
    "- 视频地址：https://www.bilibili.com/video/BV1Y7411F7hx?p=10"
   ]
  },
  {
   "cell_type": "markdown",
   "metadata": {},
   "source": [
    "### 链表\n",
    "链表中每一个元素都是一个对象，每个对象称为一个节点，包含有数据域Key和指向下一个节点的指针next。通过各个节点之间的相互连接，最终串联成一个链表。"
   ]
  },
  {
   "cell_type": "code",
   "execution_count": 1,
   "metadata": {},
   "outputs": [
    {
     "name": "stdout",
     "output_type": "stream",
     "text": [
      "2\n"
     ]
    }
   ],
   "source": [
    "class Node:\n",
    "    def __init__(self, data=None):\n",
    "        self.data = data\n",
    "        self.next = None\n",
    "        \n",
    "head = Node()        \n",
    "a = Node(1)\n",
    "b = Node(2)\n",
    "c = Node(3)\n",
    "head.next = a\n",
    "a.next = b\n",
    "b.next = c\n",
    "print(a.next.data)"
   ]
  },
  {
   "cell_type": "code",
   "execution_count": 2,
   "metadata": {},
   "outputs": [
    {
     "name": "stdout",
     "output_type": "stream",
     "text": [
      "5\n"
     ]
    }
   ],
   "source": [
    "class Node:\n",
    "    def __init__(self, data=None):\n",
    "        self.data = data\n",
    "        self.next = None\n",
    "        \n",
    "class LinkList:\n",
    "    def __init__(self, li, method='tail'):\n",
    "        self.head = None\n",
    "        self.tail = None\n",
    "        if method == 'tail':\n",
    "            self.create_linklist_tail(li)\n",
    "        elif method == 'head':\n",
    "            self.create_linklist_head(li)\n",
    "        else:\n",
    "            raise ValueError('Unsupport value %s' % method)\n",
    "        \n",
    "    # 头插法\n",
    "    def create_linklist_head(self,li):\n",
    "        self.head = Node(0)\n",
    "        for v in li:\n",
    "            n = Node(v)\n",
    "            n.next = self.head.next\n",
    "            self.head.next = n\n",
    "            self.head.data += 1\n",
    "    # 尾插法\n",
    "    def create_linklist_tail(self, li):\n",
    "        self.head = Node(0)\n",
    "        self.tail = self.head\n",
    "        for v in li:\n",
    "            p = Node(v)\n",
    "            self.tail.next = p\n",
    "            self.tail = p\n",
    "            self.head.data += 1\n",
    "        \n",
    "            \n",
    "     # 遍历输出       \n",
    "    def traverse(self):\n",
    "        p = self.head.next\n",
    "        while p:\n",
    "            yield p.data\n",
    "            p = p.next\n",
    "            \n",
    "    def __len__(self):\n",
    "        return self.head.data\n",
    "            \n",
    "li = LinkList([1,2,3,4,5], method='tail')\n",
    "li.traverse()\n",
    "print(len(li))"
   ]
  },
  {
   "cell_type": "markdown",
   "metadata": {},
   "source": [
    "### 链表节点的插入和删除"
   ]
  },
  {
   "cell_type": "markdown",
   "metadata": {},
   "source": [
    "~~~python\n",
    "# 插入\n",
    "p.next = curNode.next\n",
    "curNode.next = p\n",
    "\n",
    "# 删除\n",
    "p = curNode.next\n",
    "curNode.next = curNode.next.next\n",
    "del p\n",
    "~~~"
   ]
  },
  {
   "cell_type": "markdown",
   "metadata": {},
   "source": [
    "### 双链表\n",
    "- 双链表中每个节点有两个指针：一个指向后面节点、一个指向前面节点。\n",
    "- 节点定义："
   ]
  },
  {
   "cell_type": "markdown",
   "metadata": {},
   "source": [
    "~~~python\n",
    "class Node(object):\n",
    "    def __init__(self, item=None):\n",
    "        self.item = item\n",
    "        self.next = None\n",
    "        self.prior = None\n",
    "~~~"
   ]
  },
  {
   "cell_type": "markdown",
   "metadata": {},
   "source": [
    "### 双链表节点的插入和删除"
   ]
  },
  {
   "cell_type": "markdown",
   "metadata": {},
   "source": [
    "~~~python\n",
    "# 插入:\n",
    "p.next = curNode.next\n",
    "curNode.next.prior = p\n",
    "p.prior = curNode\n",
    "curNode.next = p\n",
    "# 删除\n",
    "p = curNode.next\n",
    "curNode.next = p.next\n",
    "p.next.prior = curNode\n",
    "del p\n",
    "~~~"
   ]
  },
  {
   "cell_type": "markdown",
   "metadata": {},
   "source": [
    "### 链表-复杂度分析\n",
    "- 列表与链表\n",
    "\n",
    "    1. 按元素值查找：二分查找O(logn) vs O(n)\n",
    "    2. 按下标查找： O(1) vs O(n)\n",
    "    3. 在某元素后插入：O(n) vs O(1)\n",
    "    4. 删除某元素： O(n) vs O(1)\n",
    "    \n",
    "\n",
    "- 链表在插入和删除的操作上明显快于顺序表\n",
    "- 链表的内存可以更灵活的分配（试利用链表重新实现栈和队列）\n",
    "- 链表这种链式存储的数据结构堆树和图的结构有很大的启发性"
   ]
  }
 ],
 "metadata": {
  "kernelspec": {
   "display_name": "Python 3",
   "language": "python",
   "name": "python3"
  },
  "language_info": {
   "codemirror_mode": {
    "name": "ipython",
    "version": 3
   },
   "file_extension": ".py",
   "mimetype": "text/x-python",
   "name": "python",
   "nbconvert_exporter": "python",
   "pygments_lexer": "ipython3",
   "version": "3.6.9"
  }
 },
 "nbformat": 4,
 "nbformat_minor": 2
}

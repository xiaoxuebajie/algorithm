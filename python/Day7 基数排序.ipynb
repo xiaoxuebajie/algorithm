{
 "cells": [
  {
   "cell_type": "markdown",
   "metadata": {},
   "source": [
    "# Day7 基数排序\n",
    "- 笔记作者：CV七少\n",
    "- 学习时间：2020.5.09\n",
    "- 学习任务：Python相关算法\n",
    "- 视频地址：https://www.bilibili.com/video/BV1Y7411F7hx?p=7"
   ]
  },
  {
   "cell_type": "markdown",
   "metadata": {},
   "source": [
    "### 基数排序\n",
    "- 多关键字排序：假如现在有一个员工表，要求按照薪资排序，薪资相同的员工按照年龄排序。\n",
    "- 先按照年龄进行排序，再按照薪资进行稳定的排序。\n",
    "- 对于两位数排序，可以先按照个位排序再按照十位进行稳定的排序。"
   ]
  },
  {
   "cell_type": "code",
   "execution_count": 1,
   "metadata": {},
   "outputs": [
    {
     "name": "stdout",
     "output_type": "stream",
     "text": [
      "[6, 5, 4, 3, 2, 1]\n",
      "[1, 2, 3, 4, 5, 6]\n",
      "-321\n"
     ]
    }
   ],
   "source": [
    "def get_digit(num, i):\n",
    "    return num // (10 ** i) % 10\n",
    "\n",
    "def reverse_list(li):\n",
    "    n = len(li)\n",
    "    for i in range(len(li) // 2):\n",
    "        li[i], li[n-i-1] = li[n-i-1], li[i]\n",
    "    return li\n",
    "\n",
    "def int2str(num):\n",
    "    li = []\n",
    "    while num > 0:\n",
    "        li.append(num % 10)\n",
    "        num = num // 10\n",
    "    li.reverse()\n",
    "    return li\n",
    "\n",
    "def reverse_int(num):\n",
    "    if num < 0:\n",
    "        is_neg = True\n",
    "        num = -1 * num\n",
    "    res = 0\n",
    "    while num > 0:\n",
    "        res = res * 10\n",
    "        res += num % 10\n",
    "        num = num //10\n",
    "    \n",
    "    if is_neg:\n",
    "        res = res * -1\n",
    "    return res\n",
    "\n",
    "\n",
    "li = [1,2,3,4,5,6]\n",
    "reverse_list(li)\n",
    "print(li)\n",
    "num = 123456\n",
    "num = int2str(num)\n",
    "print(num)\n",
    "print(reverse_int(-123))"
   ]
  },
  {
   "cell_type": "markdown",
   "metadata": {},
   "source": [
    "### 基数排序"
   ]
  },
  {
   "cell_type": "code",
   "execution_count": 2,
   "metadata": {},
   "outputs": [
    {
     "name": "stdout",
     "output_type": "stream",
     "text": [
      "[0, 1, 2, 3, 4, 5, 6, 7, 8, 9, 10, 11, 12, 13, 14, 15, 16, 17, 18, 19, 20, 21, 22, 23, 24, 25, 26, 27, 28, 29, 30, 31, 32, 33, 34, 35, 36, 37, 38, 39, 40, 41, 42, 43, 44, 45, 46, 47, 48, 49, 50, 51, 52, 53, 54, 55, 56, 57, 58, 59, 60, 61, 62, 63, 64, 65, 66, 67, 68, 69, 70, 71, 72, 73, 74, 75, 76, 77, 78, 79, 80, 81, 82, 83, 84, 85, 86, 87, 88, 89, 90, 91, 92, 93, 94, 95, 96, 97, 98, 99]\n"
     ]
    }
   ],
   "source": [
    "import random\n",
    "\n",
    "\n",
    "def radix_sort(li):\n",
    "    max_num = max(li)\n",
    "    i = 0\n",
    "    while (10 ** i <= max_num):\n",
    "        buckets = [[] for _ in range(10)]\n",
    "        for val in li:\n",
    "            digit = val // (10 ** i) % 10\n",
    "            buckets[digit].append(val)\n",
    "        li.clear()\n",
    "        for bucket in buckets:\n",
    "            for val in bucket:\n",
    "                li.append(val)\n",
    "        i += 1\n",
    "        \n",
    "li = list(range(100))\n",
    "random.shuffle(li)\n",
    "radix_sort(li)\n",
    "print(li)"
   ]
  }
 ],
 "metadata": {
  "kernelspec": {
   "display_name": "Python 3",
   "language": "python",
   "name": "python3"
  },
  "language_info": {
   "codemirror_mode": {
    "name": "ipython",
    "version": 3
   },
   "file_extension": ".py",
   "mimetype": "text/x-python",
   "name": "python",
   "nbconvert_exporter": "python",
   "pygments_lexer": "ipython3",
   "version": "3.6.9"
  }
 },
 "nbformat": 4,
 "nbformat_minor": 2
}

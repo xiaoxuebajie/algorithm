{
 "cells": [
  {
   "cell_type": "markdown",
   "metadata": {},
   "source": [
    "# Day12 哈希表\n",
    "- 笔记作者：CV七少\n",
    "- 学习时间：2020.5.26\n",
    "- 学习任务：Python相关算法\n",
    "- 视频地址：https://www.bilibili.com/video/BV1Y7411F7hx?p=17"
   ]
  },
  {
   "cell_type": "markdown",
   "metadata": {},
   "source": [
    "### 栈\n",
    "- 栈(stack)是一个数据集合，可以理解为智能在一端及逆行插入或删除操作的列表\n",
    "- 栈的特点：先进先出\n",
    "- 栈的概念：栈顶，栈底\n",
    "- 栈的基本操作：\n",
    "    - 进栈（压栈）：push==>append()\n",
    "    - 出栈：pop==>pop()\n",
    "    - 取顶栈：gettop==>li[-1]\n",
    "<img src='./images/5.png' style='zoom:80%'>"
   ]
  },
  {
   "cell_type": "markdown",
   "metadata": {},
   "source": [
    "### 栈的应用——括号匹配\n",
    "- 括号匹配问题：给一个字符串，其中包括小括号、中括号、大括号，求该字符串中的括号是否匹配。"
   ]
  },
  {
   "cell_type": "code",
   "execution_count": 1,
   "metadata": {},
   "outputs": [
    {
     "name": "stdout",
     "output_type": "stream",
     "text": [
      "True\n"
     ]
    }
   ],
   "source": [
    "def brace_match(s):\n",
    "    stack=[]\n",
    "    d = {'(':')','[':']','{':'}'}\n",
    "    for ch in s:\n",
    "        if ch in {'(','[','{'}:\n",
    "            stack.append(ch)\n",
    "        elif len(stack) == 0:\n",
    "            print('多了右括号%s' % ch)\n",
    "            return False\n",
    "        elif d[stack[-1]] == ch:\n",
    "            stack.pop()\n",
    "        else:\n",
    "            print('括号%s处不匹配' % ch)\n",
    "            return False\n",
    "    if len(stack) == 0:\n",
    "        return True\n",
    "    else:\n",
    "        print('剩余左括号未匹配')\n",
    "        return False\n",
    "    \n",
    "print(brace_match('[]{{}([]{()})}'))"
   ]
  },
  {
   "cell_type": "markdown",
   "metadata": {},
   "source": [
    "### 队列\n",
    "- 队列(queue)是一个数据集合，仅允许在列表的一端进行插入，另一端进行删除\n",
    "- 进行插入的一端称为队尾(rear)，插入动作称为进队或入队\n",
    "- 进行删除的一端称为队头(front)，删除动作称为出队\n",
    "- 队列的性质：先进先出\n",
    "- 双向队列：队列的两端都允许进行进队和出队操作。\n",
    "<img src='./images/6.png' style='zoom:50%'>"
   ]
  },
  {
   "cell_type": "markdown",
   "metadata": {},
   "source": [
    "### 队列的实现\n",
    "- 初步设想：列表+两个下标指针\n",
    "    - 创建一个列表和两个变量，front变量指向队首，rear变量指向队尾。初始时，front和rear都为0\n",
    "    - 进队操作：元素写道li[rear]的位置，rear自增1\n",
    "    - 出队操作：返回li[front]的元素，front自减1\n",
    "<img src='./images/7.png' style='zoom:40%'>\n",
    "- 队列的实现原理：环形队列\n",
    "    - 环形队列：当队尾指针front == Maxsize+1时，再前进一个位置就自动到0\n",
    "    - 实现方式：求余数运算\n",
    "    - 队首指针前进1：front=（front+1）% MaxSize\n",
    "    - 队尾指针前进1：rear =（rear+1） % MaxSize\n",
    "    - 对空条件：rear == front\n",
    "    - 队满条件：（rear+1） % MaxSize == front\n",
    "<img src='./images/8.png' style='zoom:30%'>\n",
    "- 两个栈做队列\n",
    "    - 进队 ==> 1号栈进栈\n",
    "    - 出队 ==> 2号栈出栈，如果2号栈空，把1号栈一次出栈并进2号栈"
   ]
  },
  {
   "cell_type": "code",
   "execution_count": 2,
   "metadata": {},
   "outputs": [
    {
     "name": "stdout",
     "output_type": "stream",
     "text": [
      "1\n"
     ]
    }
   ],
   "source": [
    "import queue   # 多线程使用\n",
    "from collections import deque\n",
    "\n",
    "q = deque()\n",
    "q.append(1)\n",
    "q.append(2)\n",
    "q.append(3)\n",
    "print(q.popleft())\n",
    "\n",
    "# q.addpendleft()\n",
    "# q.pop()"
   ]
  },
  {
   "cell_type": "markdown",
   "metadata": {},
   "source": [
    "### 队列的应用\n",
    "- 设计一段代码，读取文件的后5行\n",
    "- 文件是按行可迭代的"
   ]
  },
  {
   "cell_type": "code",
   "execution_count": 3,
   "metadata": {},
   "outputs": [
    {
     "name": "stdout",
     "output_type": "stream",
     "text": [
      "['a\\n', 'b\\n', 'c\\n', 'd\\n', 'e']\n"
     ]
    }
   ],
   "source": [
    "# head, tail\n",
    "from collections import deque\n",
    "\n",
    "print(list(deque(open('./images/test.txt','r', encoding='utf-8'), 5)))"
   ]
  }
 ],
 "metadata": {
  "kernelspec": {
   "display_name": "Python 3",
   "language": "python",
   "name": "python3"
  },
  "language_info": {
   "codemirror_mode": {
    "name": "ipython",
    "version": 3
   },
   "file_extension": ".py",
   "mimetype": "text/x-python",
   "name": "python",
   "nbconvert_exporter": "python",
   "pygments_lexer": "ipython3",
   "version": "3.6.9"
  }
 },
 "nbformat": 4,
 "nbformat_minor": 2
}

{
 "cells": [
  {
   "cell_type": "markdown",
   "metadata": {},
   "source": [
    "# Day12 哈希表\n",
    "- 笔记作者：CV七少\n",
    "- 学习时间：2020.5.23\n",
    "- 学习任务：Python相关算法\n",
    "- 视频地址：https://www.bilibili.com/video/BV1Y7411F7hx?p=11"
   ]
  },
  {
   "cell_type": "markdown",
   "metadata": {},
   "source": [
    "### 哈希表\n",
    "- 哈希表一个通过哈希函数来计算数据存储位置的数据结构通常支持如下操作：\n",
    "    - insert(key,value):插入键值对(key,value)\n",
    "    - get(key):如果存在键为key的键值对则返回其value，否则返回空值\n",
    "    - delete(key):删除键为key的键值对\n",
    "- 哈希表(Hash Table,又称为散列表)，是一种线性表的存储结构。哈希表由一个直接寻址表和一个哈希函数组成。哈希函数h(k)将元素关键字k作为自变量，返回元素的存储下标。"
   ]
  },
  {
   "cell_type": "markdown",
   "metadata": {},
   "source": [
    "### 哈希冲突\n",
    "由于哈希表大小是有限的，而要存储的值的总数量是无限的，因此对于任何哈希函数，都会出现两个不同元素映射到同一个位置上的情况，这种情况叫做哈希冲突。"
   ]
  },
  {
   "cell_type": "markdown",
   "metadata": {},
   "source": [
    "### 解决哈希冲突\n",
    "- 开放寻址法：如果哈希函数返回的位置已经有值，则可以向后探查新的位置来存储这个值。\n",
    "    1. 线性探查：如果位置i被占用，则探查i+1, i+2, ...\n",
    "    2. 二次探查：如果位置i被占用，则探查i+1², i-1², i+2², i-2², ...\n",
    "    3. 二度哈希：有n个哈希函数，当使用第1个哈希函数h1发生冲突时，则尝试使用h2, h3, ...\n",
    "- 拉链法：哈希表每个位置都连接一个链表，当冲突发生时，冲突的元素将加到该位置链表的最后。"
   ]
  },
  {
   "cell_type": "markdown",
   "metadata": {},
   "source": [
    "### 字典和集合都是通过哈希表来实现的"
   ]
  }
 ],
 "metadata": {
  "kernelspec": {
   "display_name": "Python 3",
   "language": "python",
   "name": "python3"
  },
  "language_info": {
   "codemirror_mode": {
    "name": "ipython",
    "version": 3
   },
   "file_extension": ".py",
   "mimetype": "text/x-python",
   "name": "python",
   "nbconvert_exporter": "python",
   "pygments_lexer": "ipython3",
   "version": "3.6.9"
  }
 },
 "nbformat": 4,
 "nbformat_minor": 2
}

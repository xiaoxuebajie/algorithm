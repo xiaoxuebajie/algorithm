{
 "cells": [
  {
   "cell_type": "markdown",
   "metadata": {},
   "source": [
    "# Day6 希尔排序+计数排序+桶排序\n",
    "- 笔记作者：CV七少\n",
    "- 学习时间：2020.5.08\n",
    "- 学习任务：Python相关算法\n",
    "- 视频地址：https://www.bilibili.com/video/BV1Y7411F7hx?p=6"
   ]
  },
  {
   "cell_type": "markdown",
   "metadata": {},
   "source": [
    "### 希尔排序思路\n",
    "1. 希尔排序是一种分组插入排序算法\n",
    "2. 首先取一个整数$d_1=n/2$，将元素分为$d_1$个组，每组相邻量元素之间距离为$d_1$，在各组内进行直接插入排序\n",
    "3. 取第二个整数$d_2=d_1/2$， 重复上述分组排序过程，知道$d_i=1$，即所有元素在同一组内进行直接插入排序。\n",
    "4. 希尔排序每趟并不使某些元素有序，而是使整体数据越来越接近有序，最后一趟排序使得所有数据有序"
   ]
  },
  {
   "cell_type": "code",
   "execution_count": 1,
   "metadata": {},
   "outputs": [
    {
     "data": {
      "text/plain": [
       "[0, 1, 2, 3, 4, 5, 6]"
      ]
     },
     "execution_count": 1,
     "metadata": {},
     "output_type": "execute_result"
    }
   ],
   "source": [
    "import random\n",
    "li = list(range(7))\n",
    "random.shuffle(li)\n",
    "\n",
    "def insert_sort_gap(li, d):\n",
    "    for i in range(d, len(li)):\n",
    "        tmp = li[i]\n",
    "        j = i - d\n",
    "        while j >= 0 and li[j] > tmp:\n",
    "            li[j+d] = li[j]\n",
    "            j -= d\n",
    "        li[j+d] = tmp\n",
    "        \n",
    "def shell_sort(li):\n",
    "    d = len(li) // 2\n",
    "    while d > 0:\n",
    "        insert_sort_gap(li, d)\n",
    "        d = d // 2\n",
    "        \n",
    "shell_sort(li)\n",
    "li"
   ]
  },
  {
   "cell_type": "markdown",
   "metadata": {},
   "source": [
    "### 计数排序\n",
    "1. 现在有一个列表，已知列表中的数范围都在0到100之间。设计算法在$O(n)$时间复杂度内将列表进行排序\n",
    "2. 得有一个最大值，且最大值不能太大"
   ]
  },
  {
   "cell_type": "code",
   "execution_count": 2,
   "metadata": {},
   "outputs": [
    {
     "name": "stdout",
     "output_type": "stream",
     "text": [
      "[7, 1, 7, 0, 2, 0, 7]\n"
     ]
    },
    {
     "data": {
      "text/plain": [
       "[0, 0, 1, 2, 7, 7, 7]"
      ]
     },
     "execution_count": 2,
     "metadata": {},
     "output_type": "execute_result"
    }
   ],
   "source": [
    "import random\n",
    "li = [random.randint(0,7) for _ in range(7)]\n",
    "print(li)\n",
    "\n",
    "def count_sort(li, max_num=100):\n",
    "    count = [0 for _ in range(max_num + 1)]\n",
    "    for val in li:\n",
    "        count[val] += 1\n",
    "    li.clear()\n",
    "    for i, v in enumerate(count):  # i这个数出现了v次\n",
    "        for _ in range(v):\n",
    "            li.append(i)\n",
    "            \n",
    "count_sort(li)\n",
    "li"
   ]
  },
  {
   "cell_type": "markdown",
   "metadata": {},
   "source": [
    "### 桶排序\n",
    "1. 在计数排序中，如果元素的范围比较大\n",
    "2. 桶排序：首先将元素分在不同的桶中，在对每个桶中的元素排序。\n",
    "3. 桶排序的表现取决于数据的分布。也就是需要堆不同数据排序时采取不同的分桶策略。\n",
    "4. 平均情况复杂度：$O(n+k)$\n",
    "5. 最坏情况时间复杂度:$O(n^2k)$\n",
    "6. 空间复杂度：$O(nk)$"
   ]
  }
 ],
 "metadata": {
  "kernelspec": {
   "display_name": "Python 3",
   "language": "python",
   "name": "python3"
  },
  "language_info": {
   "codemirror_mode": {
    "name": "ipython",
    "version": 3
   },
   "file_extension": ".py",
   "mimetype": "text/x-python",
   "name": "python",
   "nbconvert_exporter": "python",
   "pygments_lexer": "ipython3",
   "version": "3.6.9"
  }
 },
 "nbformat": 4,
 "nbformat_minor": 2
}

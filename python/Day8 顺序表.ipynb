{
 "cells": [
  {
   "cell_type": "markdown",
   "metadata": {},
   "source": [
    "# Day8 顺序表\n",
    "- 笔记作者：CV七少\n",
    "- 学习时间：2020.5.10\n",
    "- 学习任务：Python相关算法\n",
    "- 视频地址：https://www.bilibili.com/video/BV1Y7411F7hx?p=8"
   ]
  },
  {
   "cell_type": "markdown",
   "metadata": {},
   "source": [
    "### 数据结构\n",
    "- 数据结构是指相互之间存在着一种或多种关系的数据元素的集合和该集合中数据元素之间的关系组成\n",
    "- 简单来说，数据结构就是设计数据以何种方式组织并存储在计算机中。"
   ]
  },
  {
   "cell_type": "markdown",
   "metadata": {},
   "source": [
    "### 数据结构的分类\n",
    "数据结构按照其逻辑结构可分为线性结构、树结构、图结构\n",
    "- 线性结构：数据结构中的元素存在一对一的相互关系\n",
    "- 树结构：数据结构中的元素存在一对多的相互关系\n",
    "- 图结构：数据结构中的元素存在多对多的相互关系"
   ]
  },
  {
   "cell_type": "markdown",
   "metadata": {},
   "source": [
    "### 线性表：\n",
    "- 顺序表\n",
    "- 链表"
   ]
  }
 ],
 "metadata": {
  "kernelspec": {
   "display_name": "Python 3",
   "language": "python",
   "name": "python3"
  },
  "language_info": {
   "codemirror_mode": {
    "name": "ipython",
    "version": 3
   },
   "file_extension": ".py",
   "mimetype": "text/x-python",
   "name": "python",
   "nbconvert_exporter": "python",
   "pygments_lexer": "ipython3",
   "version": "3.6.9"
  }
 },
 "nbformat": 4,
 "nbformat_minor": 2
}

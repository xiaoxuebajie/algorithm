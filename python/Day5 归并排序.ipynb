{
 "cells": [
  {
   "cell_type": "markdown",
   "metadata": {},
   "source": [
    "# Day5 归并排序\n",
    "- 笔记作者：CV七少\n",
    "- 学习时间：2020.5.07\n",
    "- 学习任务：Python相关算法\n",
    "- 视频地址：https://www.bilibili.com/video/BV1Y7411F7hx?p=5"
   ]
  },
  {
   "cell_type": "markdown",
   "metadata": {},
   "source": [
    "### 一次归并"
   ]
  },
  {
   "cell_type": "code",
   "execution_count": 1,
   "metadata": {},
   "outputs": [
    {
     "name": "stdout",
     "output_type": "stream",
     "text": [
      "[1, 2, 3, 4, 5, 6, 7, 8, 9]\n"
     ]
    }
   ],
   "source": [
    "def merge(li, low, mid, high):\n",
    "    # 列表两段有序：[low, mid] [mid+1, high]\n",
    "    i = low\n",
    "    j = mid+1\n",
    "    li_tmp = []\n",
    "    while i <= mid and j <= high:\n",
    "        if li[i] < li[j]:\n",
    "            li_tmp.append(li[i])\n",
    "            i += 1\n",
    "        else:\n",
    "            li_tmp.append(li[j])\n",
    "            j += 1\n",
    "    while i <= mid:\n",
    "        li_tmp.append(li[i])\n",
    "        i += 1\n",
    "    while j <= high:\n",
    "        li_tmp.append(li[j])\n",
    "        j += 1\n",
    "#     for i in range(low, high+1):\n",
    "#         li[i] = li_tmp[i-low]\n",
    "    li[low:high+1] = li_tmp\n",
    "    \n",
    "li = [2,5,7,8,9,1,3,4,6]\n",
    "merge(li, 0, 4, 8)\n",
    "print(li)"
   ]
  },
  {
   "cell_type": "markdown",
   "metadata": {},
   "source": [
    "### 两个有序列表合成一个有序列表"
   ]
  },
  {
   "cell_type": "code",
   "execution_count": 2,
   "metadata": {},
   "outputs": [
    {
     "name": "stdout",
     "output_type": "stream",
     "text": [
      "[1, 2, 3, 4, 5, 6, 7, 8, 9]\n"
     ]
    }
   ],
   "source": [
    "def merge2list(li1, li2):\n",
    "    li=[]\n",
    "    i = 0\n",
    "    j = 0\n",
    "    while i < len(li1) and j < len(li2):\n",
    "        if li1[i] <= li2[j]:\n",
    "            li.append(li1[i])\n",
    "            i += 1\n",
    "        else:\n",
    "            li.append(li2[j])\n",
    "            j += 1\n",
    "    while i < len(li1):\n",
    "        li.append(li1[i])\n",
    "        i += 1\n",
    "    while j < len(li2):\n",
    "        li.append(li2[j])\n",
    "        k += 1\n",
    "    return li\n",
    "\n",
    "li1 = [2,5,7,8,9]\n",
    "li2 = [1,3,4,6]\n",
    "merge2list(li1, li2)\n",
    "print(li)"
   ]
  },
  {
   "cell_type": "markdown",
   "metadata": {},
   "source": [
    "### 归并排序\n",
    "- 时间复杂度：$O(nlogn)$\n",
    "- 空间复杂度：$O(n)$"
   ]
  },
  {
   "cell_type": "code",
   "execution_count": 3,
   "metadata": {},
   "outputs": [
    {
     "name": "stdout",
     "output_type": "stream",
     "text": [
      "[2, 3, 4, 5, 6, 7, 8, 10]\n"
     ]
    }
   ],
   "source": [
    "def merge_sort(li, low, high):\n",
    "    if low < high:\n",
    "        mid = (low + high) // 2\n",
    "        merge_sort(li, low, mid)\n",
    "        merge_sort(li, mid+1, high)\n",
    "        merge(li, low, mid, high)\n",
    "        \n",
    "li = [10,4,6,3,8,2,5,7]\n",
    "merge_sort(li, 0, len(li)-1)\n",
    "print(li)"
   ]
  },
  {
   "cell_type": "markdown",
   "metadata": {},
   "source": [
    "### NB三人组小结\n",
    "\n",
    "一般情况下，就运行时间而言：快速排序<归并排序<堆排序\n",
    "三种排序算法的优缺点：\n",
    "- 快速排序：在极端情况下排序效率低\n",
    "- 归并排序：需要额外的内存开销\n",
    "- 堆排序：在快的排序算法中相对较慢\n",
    "<img src='./images/1.png' style=\"zoom:50%\">"
   ]
  }
 ],
 "metadata": {
  "kernelspec": {
   "display_name": "Python 3",
   "language": "python",
   "name": "python3"
  },
  "language_info": {
   "codemirror_mode": {
    "name": "ipython",
    "version": 3
   },
   "file_extension": ".py",
   "mimetype": "text/x-python",
   "name": "python",
   "nbconvert_exporter": "python",
   "pygments_lexer": "ipython3",
   "version": "3.6.9"
  }
 },
 "nbformat": 4,
 "nbformat_minor": 2
}

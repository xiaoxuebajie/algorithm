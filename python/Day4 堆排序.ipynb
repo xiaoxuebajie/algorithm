{
 "cells": [
  {
   "cell_type": "markdown",
   "metadata": {},
   "source": [
    "# Day4 堆排序\n",
    "- 笔记作者：CV七少\n",
    "- 学习时间：2020.5.06\n",
    "- 学习任务：Python相关算法\n",
    "- 视频地址：https://www.bilibili.com/video/BV1Y7411F7hx?p=4"
   ]
  },
  {
   "cell_type": "markdown",
   "metadata": {},
   "source": [
    "### 树的相关知识点：\n",
    "- 树是一种可以递归定义的数据结构\n",
    "- 根节点，叶子节点\n",
    "- 树的深度（高度）\n",
    "- 树的度\n",
    "- 孩子节点/父节点\n",
    "- 子树"
   ]
  },
  {
   "cell_type": "markdown",
   "metadata": {},
   "source": [
    "### 两种特殊二叉树\n",
    "- 满二叉树：一个二叉树，如果每一个层的结点数都达到最大值，则这个二叉树就是满二叉树\n",
    "- 完全二叉树：叶节点只能出现在最下层和次下层，并且最下面一层的结点都集中在该层最左边的若干位置的二叉树"
   ]
  },
  {
   "cell_type": "markdown",
   "metadata": {},
   "source": [
    "### 二叉树的存储方式\n",
    "- 链式存储方式\n",
    "- 顺序存储方式"
   ]
  },
  {
   "cell_type": "markdown",
   "metadata": {},
   "source": [
    "### 根节点与左右孩子节点的关系\n",
    "- 父节点: i    左孩子: 2i+1    右孩子：2i+2\n",
    "- 反过来如果孩子节点为 i ，则父节点  $(i-1) // 2$"
   ]
  },
  {
   "cell_type": "markdown",
   "metadata": {},
   "source": [
    "### 堆排序\n",
    "- 大根堆：一棵完全二叉树，满足任一节点都比其孩子节点大\n",
    "- 小根堆：一棵完全二叉树，满足任一节点都比其孩子节点小"
   ]
  },
  {
   "cell_type": "code",
   "execution_count": 1,
   "metadata": {},
   "outputs": [
    {
     "data": {
      "text/plain": [
       "[0, 1, 2, 3, 4, 5, 6]"
      ]
     },
     "execution_count": 1,
     "metadata": {},
     "output_type": "execute_result"
    }
   ],
   "source": [
    "def sift(li, low, high):\n",
    "    # li 表示树， low 表示树根， haigh 表示树最后一个节点的位置\n",
    "    tmp = li[low]\n",
    "    i = low\n",
    "    j = 2 * i + 1   # j 指向空位的左孩子\n",
    "    # i 指向空位，j 指向两个孩子\n",
    "    while j <= high:  # 循环退出的第二种情况：j>high,说明空位i 是叶子节点\n",
    "        if j + 1 <= high and li[j] < li[j+1]: # 如果右孩子存在并且比左孩子大，指向右孩子\n",
    "            j += 1\n",
    "        if li[j] > tmp:\n",
    "            li[i] = li[j]\n",
    "            i = j\n",
    "            j = 2 * i + 1\n",
    "        else: # 循环退出的第一种情况：j 位置的值比tmp 小， 说明两个孩子都比tmd小\n",
    "            break\n",
    "    li[i] = tmp\n",
    "    \n",
    "    \n",
    "def heap_sort(li):\n",
    "    n = len(li)\n",
    "    # 1. 构造堆\n",
    "    for low in range(n//2-1, -1, -1):\n",
    "        sift(li, low, n-1)\n",
    "    # 2. 换个出数\n",
    "    for high in range(n-1, -1, -1):\n",
    "        li[0], li[high] = li[high], li[0]  # 退休 棋子\n",
    "        sift(li, 0, high-1)\n",
    "        \n",
    "import random\n",
    "li = list(range(7))\n",
    "random.shuffle(li)\n",
    "heap_sort(li)\n",
    "li"
   ]
  },
  {
   "cell_type": "markdown",
   "metadata": {},
   "source": [
    "### Python内置函数"
   ]
  },
  {
   "cell_type": "code",
   "execution_count": 2,
   "metadata": {},
   "outputs": [
    {
     "name": "stdout",
     "output_type": "stream",
     "text": [
      "[1, 2, 4, 3, 9, 6, 7, 8, 5]\n",
      "[0, 1, 4, 3, 2, 6, 7, 8, 5, 9]\n",
      "[1, 2, 4, 3, 9, 6, 7, 8, 5]\n"
     ]
    }
   ],
   "source": [
    "import heapq\n",
    "\n",
    "li = [9,5,7,8,2,6,4,1,3]\n",
    "heapq.heapify(li)\n",
    "print(li)\n",
    "heapq.heappush(li, 0)\n",
    "print(li)\n",
    "heapq.heappop(li)\n",
    "print(li)"
   ]
  },
  {
   "cell_type": "markdown",
   "metadata": {},
   "source": [
    "### 堆排序扩展——topK问题\n",
    "现在有n个数，设计算法找出前K大的数（k<n）\n",
    "\n",
    "解决办法：\n",
    "1. 排序后切片        时间复杂度：$O(nlogn+k)$\n",
    "2. LowB三人组思想     时间复杂度：$O(kn)$\n",
    "3. 堆排序思想       时间复杂度：$O(nlogk)$"
   ]
  },
  {
   "cell_type": "markdown",
   "metadata": {},
   "source": [
    "#### 堆的应用\n",
    "解决思路：\n",
    "- 取列表前k个元素建立一个小根堆。堆顶就是目前第k大的数。\n",
    "- 依次向后遍历原列表，对于列表中的元素，如果小于堆顶，则忽略该元素；如果大于堆顶，则将堆顶更换为该元素，并且堆堆进行一次调整。\n",
    "- 遍历列表所有元素后，倒序弹出堆顶。"
   ]
  },
  {
   "cell_type": "code",
   "execution_count": 3,
   "metadata": {},
   "outputs": [],
   "source": [
    "def topk(li, k):\n",
    "    heap = li[0:k]\n",
    "    for i in range(k, len(li)):\n",
    "        if li[i] > heap[0]:\n",
    "            heap[0] = li[i]\n",
    "            sift(heap, 0, k-1)\n",
    "    for i in range(k-1, -1, -1):\n",
    "        heap[0], heap[i] = heap[i], heap[0]\n",
    "        sift(heap, 0, i-1)"
   ]
  },
  {
   "cell_type": "code",
   "execution_count": 4,
   "metadata": {},
   "outputs": [
    {
     "name": "stdout",
     "output_type": "stream",
     "text": [
      "[9, 8, 7, 6, 5]\n",
      "[1, 2, 3, 4, 5]\n"
     ]
    }
   ],
   "source": [
    "import heapq\n",
    "li = [9, 5, 7, 8, 2, 6, 4, 1, 3]\n",
    "\n",
    "print(heapq.nlargest(5, li))\n",
    "print(heapq.nsmallest(5, li))"
   ]
  }
 ],
 "metadata": {
  "kernelspec": {
   "display_name": "Python 3",
   "language": "python",
   "name": "python3"
  },
  "language_info": {
   "codemirror_mode": {
    "name": "ipython",
    "version": 3
   },
   "file_extension": ".py",
   "mimetype": "text/x-python",
   "name": "python",
   "nbconvert_exporter": "python",
   "pygments_lexer": "ipython3",
   "version": "3.6.9"
  }
 },
 "nbformat": 4,
 "nbformat_minor": 2
}
